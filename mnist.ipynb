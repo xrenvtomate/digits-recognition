{
  "cells": [
    {
      "cell_type": "code",
      "execution_count": null,
      "metadata": {
        "id": "N9NH05m2PKHt"
      },
      "outputs": [],
      "source": [
        "import numpy as np"
      ]
    },
    {
      "cell_type": "code",
      "execution_count": null,
      "metadata": {
        "id": "q0IHCxlMPRB9"
      },
      "outputs": [],
      "source": [
        "from matplotlib import pyplot as plt"
      ]
    },
    {
      "cell_type": "code",
      "execution_count": null,
      "metadata": {
        "id": "FVOn1D15QBsU"
      },
      "outputs": [],
      "source": [
        "data = np.genfromtxt('mnist_train_small.csv', delimiter=',')\n",
        "labels, imgs = np.hsplit(data, [1])\n",
        "labels = labels.ravel()\n",
        "imgs /= 255"
      ]
    },
    {
      "cell_type": "code",
      "execution_count": null,
      "metadata": {
        "id": "DmgK_TyASftY"
      },
      "outputs": [],
      "source": [
        "epochs = 3\n",
        "learning_rate = 0.03\n",
        "h_n = 20\n",
        "h = np.zeros(h_n)\n",
        "w_h = np.random.uniform(-0.5, 0.5, (h_n, 784))\n",
        "b_h = np.zeros((h_n, 1))\n",
        "o = np.zeros(10)\n",
        "w_o = np.random.uniform(-0.5, 0.5, (10, h_n))\n",
        "b_o = np.zeros((10, 1))"
      ]
    },
    {
      "cell_type": "code",
      "execution_count": null,
      "metadata": {
        "colab": {
          "base_uri": "https://localhost:8080/"
        },
        "id": "3898BbAWWKSm",
        "outputId": "80a1fc0c-77ac-48d5-cb12-fdebc33c6177"
      },
      "outputs": [],
      "source": [
        "for epoch in range(epochs):\n",
        "    total = 0\n",
        "    guessed = 0\n",
        "    for img, label in zip(imgs, labels):\n",
        "        img.shape += (1,)\n",
        "        h = w_h @ img + b_h\n",
        "        h = 1 / (1 + np.exp(-h))\n",
        "        o = w_o @ h + b_o\n",
        "        o = 1 / (1 + np.exp(-o))\n",
        "        right = np.zeros((10, 1))\n",
        "        right[int(label), 0] = 1\n",
        "\n",
        "        total += 1\n",
        "        if np.argmax(o) == np.argmax(right):\n",
        "            guessed += 1\n",
        "\n",
        "        delta_o = right - o\n",
        "        w_o += learning_rate * delta_o @ np.transpose(h)\n",
        "        b_o += learning_rate * delta_o\n",
        "\n",
        "        delta_h = np.transpose(w_o) @ -delta_o * (h * (1 - h))\n",
        "        w_h -= learning_rate * delta_h @ np.transpose(img)\n",
        "        b_h -= learning_rate * delta_h\n",
        "    print(f'current accuracy: {guessed / total}')"
      ]
    },
    {
      "cell_type": "code",
      "execution_count": null,
      "metadata": {
        "id": "PzvDghrR5d8u"
      },
      "outputs": [],
      "source": [
        "from PIL import Image\n",
        "\n",
        "img = Image.open('img.jpg').resize((28, 28))\n",
        "img = 1 - np.array(img.getdata())[:, 0] / 255\n",
        "\n",
        "plt.imshow(img.reshape(28, 28), cmap='Greys')\n",
        "\n",
        "img.shape += (1,)\n",
        "h = w_h @ img + b_h\n",
        "h = 1 / (1 + np.exp(-h))\n",
        "o = w_o @ h + b_o\n",
        "o = 1 / (1 + np.exp(-o))\n",
        "\n",
        "print(np.argmax(o))\n",
        "np.set_printoptions(suppress = True)"
      ]
    }
  ],
  "metadata": {
    "colab": {
      "provenance": []
    },
    "kernelspec": {
      "display_name": "Python 3",
      "language": "python",
      "name": "python3"
    },
    "language_info": {
      "codemirror_mode": {
        "name": "ipython",
        "version": 3
      },
      "file_extension": ".py",
      "mimetype": "text/x-python",
      "name": "python",
      "nbconvert_exporter": "python",
      "pygments_lexer": "ipython3",
      "version": "3.10.7"
    },
    "vscode": {
      "interpreter": {
        "hash": "6bd114aba23dfc07772820610b8dcf45453a7ee194542aae06056fc89c4175d0"
      }
    }
  },
  "nbformat": 4,
  "nbformat_minor": 0
}
